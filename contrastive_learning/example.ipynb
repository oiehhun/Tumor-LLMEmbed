{
 "cells": [
  {
   "cell_type": "code",
   "execution_count": 6,
   "metadata": {},
   "outputs": [],
   "source": [
    "import numpy as np\n",
    "import pandas as pd\n",
    "import seaborn as sns\n",
    "from tqdm import tqdm, trange\n",
    "import random\n",
    "\n",
    "import torch\n",
    "import torch.nn as nn\n",
    "import torch.optim as optim\n",
    "import pandas as pd\n",
    "from torch.utils.data import DataLoader, Dataset\n",
    "from transformers import AutoConfig, AutoModelForCausalLM, AutoTokenizer, AutoModel, BitsAndBytesConfig\n",
    "from peft import (\n",
    "    LoraConfig,\n",
    "    get_peft_model,\n",
    "    prepare_model_for_kbit_training,\n",
    ")\n",
    "import torch.nn.functional as F\n",
    "\n",
    "import warnings\n",
    "warnings.filterwarnings(\"ignore\")"
   ]
  },
  {
   "cell_type": "code",
   "execution_count": null,
   "metadata": {},
   "outputs": [
    {
     "data": {
      "text/html": [
       "<div>\n",
       "<style scoped>\n",
       "    .dataframe tbody tr th:only-of-type {\n",
       "        vertical-align: middle;\n",
       "    }\n",
       "\n",
       "    .dataframe tbody tr th {\n",
       "        vertical-align: top;\n",
       "    }\n",
       "\n",
       "    .dataframe thead th {\n",
       "        text-align: right;\n",
       "    }\n",
       "</style>\n",
       "<table border=\"1\" class=\"dataframe\">\n",
       "  <thead>\n",
       "    <tr style=\"text-align: right;\">\n",
       "      <th></th>\n",
       "      <th>id</th>\n",
       "      <th>prompt</th>\n",
       "      <th>A</th>\n",
       "      <th>B</th>\n",
       "      <th>C</th>\n",
       "      <th>D</th>\n",
       "      <th>E</th>\n",
       "      <th>answer</th>\n",
       "    </tr>\n",
       "  </thead>\n",
       "  <tbody>\n",
       "    <tr>\n",
       "      <th>0</th>\n",
       "      <td>0</td>\n",
       "      <td>Which of the following statements accurately d...</td>\n",
       "      <td>MOND is a theory that reduces the observed mis...</td>\n",
       "      <td>MOND is a theory that increases the discrepanc...</td>\n",
       "      <td>MOND is a theory that explains the missing bar...</td>\n",
       "      <td>MOND is a theory that reduces the discrepancy ...</td>\n",
       "      <td>MOND is a theory that eliminates the observed ...</td>\n",
       "      <td>D</td>\n",
       "    </tr>\n",
       "    <tr>\n",
       "      <th>1</th>\n",
       "      <td>1</td>\n",
       "      <td>Which of the following is an accurate definiti...</td>\n",
       "      <td>Dynamic scaling refers to the evolution of sel...</td>\n",
       "      <td>Dynamic scaling refers to the non-evolution of...</td>\n",
       "      <td>Dynamic scaling refers to the evolution of sel...</td>\n",
       "      <td>Dynamic scaling refers to the non-evolution of...</td>\n",
       "      <td>Dynamic scaling refers to the evolution of sel...</td>\n",
       "      <td>A</td>\n",
       "    </tr>\n",
       "    <tr>\n",
       "      <th>2</th>\n",
       "      <td>2</td>\n",
       "      <td>Which of the following statements accurately d...</td>\n",
       "      <td>The triskeles symbol was reconstructed as a fe...</td>\n",
       "      <td>The triskeles symbol is a representation of th...</td>\n",
       "      <td>The triskeles symbol is a representation of a ...</td>\n",
       "      <td>The triskeles symbol represents three interloc...</td>\n",
       "      <td>The triskeles symbol is a representation of th...</td>\n",
       "      <td>A</td>\n",
       "    </tr>\n",
       "    <tr>\n",
       "      <th>3</th>\n",
       "      <td>3</td>\n",
       "      <td>What is the significance of regularization in ...</td>\n",
       "      <td>Regularizing the mass-energy of an electron wi...</td>\n",
       "      <td>Regularizing the mass-energy of an electron wi...</td>\n",
       "      <td>Regularizing the mass-energy of an electron wi...</td>\n",
       "      <td>Regularizing the mass-energy of an electron wi...</td>\n",
       "      <td>Regularizing the mass-energy of an electron wi...</td>\n",
       "      <td>C</td>\n",
       "    </tr>\n",
       "    <tr>\n",
       "      <th>4</th>\n",
       "      <td>4</td>\n",
       "      <td>Which of the following statements accurately d...</td>\n",
       "      <td>The angular spacing of features in the diffrac...</td>\n",
       "      <td>The angular spacing of features in the diffrac...</td>\n",
       "      <td>The angular spacing of features in the diffrac...</td>\n",
       "      <td>The angular spacing of features in the diffrac...</td>\n",
       "      <td>The angular spacing of features in the diffrac...</td>\n",
       "      <td>D</td>\n",
       "    </tr>\n",
       "  </tbody>\n",
       "</table>\n",
       "</div>"
      ],
      "text/plain": [
       "   id                                             prompt  \\\n",
       "0   0  Which of the following statements accurately d...   \n",
       "1   1  Which of the following is an accurate definiti...   \n",
       "2   2  Which of the following statements accurately d...   \n",
       "3   3  What is the significance of regularization in ...   \n",
       "4   4  Which of the following statements accurately d...   \n",
       "\n",
       "                                                   A  \\\n",
       "0  MOND is a theory that reduces the observed mis...   \n",
       "1  Dynamic scaling refers to the evolution of sel...   \n",
       "2  The triskeles symbol was reconstructed as a fe...   \n",
       "3  Regularizing the mass-energy of an electron wi...   \n",
       "4  The angular spacing of features in the diffrac...   \n",
       "\n",
       "                                                   B  \\\n",
       "0  MOND is a theory that increases the discrepanc...   \n",
       "1  Dynamic scaling refers to the non-evolution of...   \n",
       "2  The triskeles symbol is a representation of th...   \n",
       "3  Regularizing the mass-energy of an electron wi...   \n",
       "4  The angular spacing of features in the diffrac...   \n",
       "\n",
       "                                                   C  \\\n",
       "0  MOND is a theory that explains the missing bar...   \n",
       "1  Dynamic scaling refers to the evolution of sel...   \n",
       "2  The triskeles symbol is a representation of a ...   \n",
       "3  Regularizing the mass-energy of an electron wi...   \n",
       "4  The angular spacing of features in the diffrac...   \n",
       "\n",
       "                                                   D  \\\n",
       "0  MOND is a theory that reduces the discrepancy ...   \n",
       "1  Dynamic scaling refers to the non-evolution of...   \n",
       "2  The triskeles symbol represents three interloc...   \n",
       "3  Regularizing the mass-energy of an electron wi...   \n",
       "4  The angular spacing of features in the diffrac...   \n",
       "\n",
       "                                                   E answer  \n",
       "0  MOND is a theory that eliminates the observed ...      D  \n",
       "1  Dynamic scaling refers to the evolution of sel...      A  \n",
       "2  The triskeles symbol is a representation of th...      A  \n",
       "3  Regularizing the mass-energy of an electron wi...      C  \n",
       "4  The angular spacing of features in the diffrac...      D  "
      ]
     },
     "execution_count": 7,
     "metadata": {},
     "output_type": "execute_result"
    }
   ],
   "source": [
    "# Kaggle Data\n",
    "df = pd.read_csv('./kaggle-llm-science-exam/train.csv')\n",
    "df.head()"
   ]
  },
  {
   "cell_type": "code",
   "execution_count": null,
   "metadata": {},
   "outputs": [],
   "source": [
    "# Tumor Data\n",
    "\n",
    "train_data = pd.read_csv('../data/siamese/train_data.csv')\n",
    "test_data = pd.read_csv('../data/siamese/test_data.csv')"
   ]
  },
  {
   "cell_type": "code",
   "execution_count": 23,
   "metadata": {},
   "outputs": [],
   "source": [
    "train_data['label'] = train_data['label'].apply(lambda x: 1 if x == 1 else -1)\n",
    "test_data['label'] = test_data['label'].apply(lambda x: 1 if x == 1 else -1)"
   ]
  },
  {
   "cell_type": "code",
   "execution_count": 24,
   "metadata": {},
   "outputs": [],
   "source": [
    "train_idx = random.sample(range(len(train_data)), 64)\n",
    "test_idx = random.sample(range(len(test_data)), 64)\n",
    "\n",
    "train_data = [train_data.iloc[i,:] for i in train_idx]\n",
    "test_data = [test_data.iloc[i,:] for i in test_idx]"
   ]
  },
  {
   "cell_type": "code",
   "execution_count": 25,
   "metadata": {},
   "outputs": [],
   "source": [
    "train_data = pd.DataFrame(train_data).reset_index(drop=True)\n",
    "test_data = pd.DataFrame(test_data).reset_index(drop=True)\n"
   ]
  },
  {
   "cell_type": "markdown",
   "metadata": {},
   "source": [
    "# Importing and formating data"
   ]
  },
  {
   "cell_type": "code",
   "execution_count": 3,
   "metadata": {},
   "outputs": [
    {
     "data": {
      "text/html": [
       "<div>\n",
       "<style scoped>\n",
       "    .dataframe tbody tr th:only-of-type {\n",
       "        vertical-align: middle;\n",
       "    }\n",
       "\n",
       "    .dataframe tbody tr th {\n",
       "        vertical-align: top;\n",
       "    }\n",
       "\n",
       "    .dataframe thead th {\n",
       "        text-align: right;\n",
       "    }\n",
       "</style>\n",
       "<table border=\"1\" class=\"dataframe\">\n",
       "  <thead>\n",
       "    <tr style=\"text-align: right;\">\n",
       "      <th></th>\n",
       "      <th>prompt</th>\n",
       "      <th>answer_text</th>\n",
       "      <th>labels</th>\n",
       "    </tr>\n",
       "  </thead>\n",
       "  <tbody>\n",
       "    <tr>\n",
       "      <th>0</th>\n",
       "      <td>Which of the following statements accurately d...</td>\n",
       "      <td>MOND is a theory that reduces the observed mis...</td>\n",
       "      <td>0</td>\n",
       "    </tr>\n",
       "    <tr>\n",
       "      <th>1</th>\n",
       "      <td>Which of the following is an accurate definiti...</td>\n",
       "      <td>Dynamic scaling refers to the evolution of sel...</td>\n",
       "      <td>1</td>\n",
       "    </tr>\n",
       "    <tr>\n",
       "      <th>2</th>\n",
       "      <td>Which of the following statements accurately d...</td>\n",
       "      <td>The triskeles symbol was reconstructed as a fe...</td>\n",
       "      <td>1</td>\n",
       "    </tr>\n",
       "    <tr>\n",
       "      <th>3</th>\n",
       "      <td>What is the significance of regularization in ...</td>\n",
       "      <td>Regularizing the mass-energy of an electron wi...</td>\n",
       "      <td>0</td>\n",
       "    </tr>\n",
       "    <tr>\n",
       "      <th>4</th>\n",
       "      <td>Which of the following statements accurately d...</td>\n",
       "      <td>The angular spacing of features in the diffrac...</td>\n",
       "      <td>0</td>\n",
       "    </tr>\n",
       "    <tr>\n",
       "      <th>...</th>\n",
       "      <td>...</td>\n",
       "      <td>...</td>\n",
       "      <td>...</td>\n",
       "    </tr>\n",
       "    <tr>\n",
       "      <th>995</th>\n",
       "      <td>What is the relation between the three moment ...</td>\n",
       "      <td>The three moment theorem is used to derive the...</td>\n",
       "      <td>0</td>\n",
       "    </tr>\n",
       "    <tr>\n",
       "      <th>996</th>\n",
       "      <td>What is the throttling process, and why is it ...</td>\n",
       "      <td>The throttling process is a steady adiabatic f...</td>\n",
       "      <td>0</td>\n",
       "    </tr>\n",
       "    <tr>\n",
       "      <th>997</th>\n",
       "      <td>What happens to excess base metal as a solutio...</td>\n",
       "      <td>The excess base metal will often evaporate, be...</td>\n",
       "      <td>0</td>\n",
       "    </tr>\n",
       "    <tr>\n",
       "      <th>998</th>\n",
       "      <td>What is the relationship between mass, force, ...</td>\n",
       "      <td>Mass is a property that determines the size of...</td>\n",
       "      <td>0</td>\n",
       "    </tr>\n",
       "    <tr>\n",
       "      <th>999</th>\n",
       "      <td>What did Arthur Eddington discover about two o...</td>\n",
       "      <td>Arthur Eddington showed that two of Einstein's...</td>\n",
       "      <td>0</td>\n",
       "    </tr>\n",
       "  </tbody>\n",
       "</table>\n",
       "<p>1000 rows × 3 columns</p>\n",
       "</div>"
      ],
      "text/plain": [
       "                                                prompt  \\\n",
       "0    Which of the following statements accurately d...   \n",
       "1    Which of the following is an accurate definiti...   \n",
       "2    Which of the following statements accurately d...   \n",
       "3    What is the significance of regularization in ...   \n",
       "4    Which of the following statements accurately d...   \n",
       "..                                                 ...   \n",
       "995  What is the relation between the three moment ...   \n",
       "996  What is the throttling process, and why is it ...   \n",
       "997  What happens to excess base metal as a solutio...   \n",
       "998  What is the relationship between mass, force, ...   \n",
       "999  What did Arthur Eddington discover about two o...   \n",
       "\n",
       "                                           answer_text  labels  \n",
       "0    MOND is a theory that reduces the observed mis...       0  \n",
       "1    Dynamic scaling refers to the evolution of sel...       1  \n",
       "2    The triskeles symbol was reconstructed as a fe...       1  \n",
       "3    Regularizing the mass-energy of an electron wi...       0  \n",
       "4    The angular spacing of features in the diffrac...       0  \n",
       "..                                                 ...     ...  \n",
       "995  The three moment theorem is used to derive the...       0  \n",
       "996  The throttling process is a steady adiabatic f...       0  \n",
       "997  The excess base metal will often evaporate, be...       0  \n",
       "998  Mass is a property that determines the size of...       0  \n",
       "999  Arthur Eddington showed that two of Einstein's...       0  \n",
       "\n",
       "[1000 rows x 3 columns]"
      ]
     },
     "execution_count": 3,
     "metadata": {},
     "output_type": "execute_result"
    }
   ],
   "source": [
    "df = pd.melt(df, id_vars=['prompt','answer'], value_vars=['A', 'B', 'C', 'D', 'E'], var_name='Column', value_name='answer_text')\n",
    "df['labels'] = np.where(df['answer']==df['Column'],1,0)\n",
    "df = df.drop(['answer','Column'], axis=1)\n",
    "df = df.reset_index(drop = True)\n",
    "df"
   ]
  },
  {
   "cell_type": "code",
   "execution_count": 4,
   "metadata": {},
   "outputs": [
    {
     "data": {
      "text/plain": [
       "labels\n",
       "0    800\n",
       "1    200\n",
       "Name: count, dtype: int64"
      ]
     },
     "execution_count": 4,
     "metadata": {},
     "output_type": "execute_result"
    }
   ],
   "source": [
    "df['labels'].value_counts()"
   ]
  },
  {
   "cell_type": "markdown",
   "metadata": {},
   "source": [
    "# Loading bert large uncase model"
   ]
  },
  {
   "cell_type": "code",
   "execution_count": null,
   "metadata": {},
   "outputs": [],
   "source": [
    "model_path = '../hf_model/models--bert-large-uncased/snapshots/6da4b6a26a1877e173fca3225479512db81a5e5b'\n",
    "\n",
    "tokenizer = AutoTokenizer.from_pretrained(model_path)\n",
    "model = AutoModel.from_pretrained(model_path, output_hidden_states=True)"
   ]
  },
  {
   "cell_type": "markdown",
   "metadata": {},
   "source": [
    "# Loading LLaMA3.1 model"
   ]
  },
  {
   "cell_type": "code",
   "execution_count": null,
   "metadata": {},
   "outputs": [
    {
     "data": {
      "application/vnd.jupyter.widget-view+json": {
       "model_id": "176b4596826c409d926431492816ea4b",
       "version_major": 2,
       "version_minor": 0
      },
      "text/plain": [
       "Loading checkpoint shards:   0%|          | 0/4 [00:00<?, ?it/s]"
      ]
     },
     "metadata": {},
     "output_type": "display_data"
    },
    {
     "name": "stdout",
     "output_type": "stream",
     "text": [
      "Pad token ID: 128001, Type: <class 'int'>\n"
     ]
    }
   ],
   "source": [
    "model_id = \"../hf_model/models--meta-llama--Meta-Llama-3.1-8B-Instruct/snapshots/8c22764a7e3675c50d4c7c9a4edb474456022b16\"\n",
    "# saved_model_path = \"../llama_finetuning/llama3.1_finetuning.pth\"\n",
    "\n",
    "tokenizer = AutoTokenizer.from_pretrained(model_id)\n",
    "tokenizer.pad_token = \"[PAD]\"\n",
    "tokenizer.pad_token = tokenizer.eos_token\n",
    "tokenizer.padding_side = \"right\"\n",
    "\n",
    "config_kwargs = {\n",
    "    \"trust_remote_code\": True,\n",
    "    \"cache_dir\": None,\n",
    "    \"revision\": 'main',\n",
    "    \"use_auth_token\": None,\n",
    "    \"output_hidden_states\": True\n",
    "}\n",
    "model_config = AutoConfig.from_pretrained(model_id, **config_kwargs)\n",
    "\n",
    "bnb_config = BitsAndBytesConfig(\n",
    "    load_in_4bit=True,\n",
    "    bnb_4bit_use_double_quant=True,\n",
    "    bnb_4bit_quant_type=\"nf4\",\n",
    "    bnb_4bit_compute_dtype=torch.bfloat16\n",
    ")\n",
    "\n",
    "tokenizer = AutoTokenizer.from_pretrained(\n",
    "    model_id,\n",
    "    use_fast=False,\n",
    "    trust_remote_code=True,\n",
    "    padding_side=\"right\",\n",
    "    pad_token=\"[PAD]\"\n",
    ")\n",
    "\n",
    "model = AutoModelForCausalLM.from_pretrained(\n",
    "    model_id,\n",
    "    trust_remote_code=True,\n",
    "    config=model_config,\n",
    "    torch_dtype=torch.float16,\n",
    "    quantization_config=bnb_config,\n",
    "    device_map='cuda:0')\n",
    "\n",
    "model.config.pad_token_id = model.config.eos_token_id[0]\n",
    "print(f\"Pad token ID: {model.config.pad_token_id}, Type: {type(model.config.pad_token_id)}\")\n",
    "model.resize_token_embeddings(len(tokenizer)) \n",
    "model = prepare_model_for_kbit_training(model)\n",
    "\n",
    "config = LoraConfig(\n",
    "    r=16,\n",
    "    lora_alpha=16,\n",
    "    target_modules=[\"q_proj\", \"v_proj\"], # https://github.com/huggingface/peft/blob/632997d1fb776c3cf05d8c2537ac9a98a7ce9435/src/peft/utils/other.py#L202\n",
    "    lora_dropout=0.1,\n",
    "    bias=\"none\"\n",
    ")\n",
    "model = get_peft_model(model, config)\n",
    "# model.load_state_dict(torch.load(saved_model_path))"
   ]
  },
  {
   "cell_type": "markdown",
   "metadata": {},
   "source": [
    "# Data prep for Siamese Network"
   ]
  },
  {
   "cell_type": "code",
   "execution_count": 12,
   "metadata": {},
   "outputs": [],
   "source": [
    "class SiameseDataset(Dataset):\n",
    "    def __init__(self, prompt, answer_text, labels):\n",
    "        self.text1 = prompt\n",
    "        self.text2 = answer_text\n",
    "        self.labels = labels\n",
    "\n",
    "    def __len__(self):\n",
    "        return len(self.labels)\n",
    "\n",
    "    def __getitem__(self, idx):\n",
    "        text1 = self.text1[idx]\n",
    "        text2 = self.text2[idx]\n",
    "        label = self.labels[idx]\n",
    "        return text1, text2, torch.tensor(label)"
   ]
  },
  {
   "cell_type": "code",
   "execution_count": 26,
   "metadata": {},
   "outputs": [],
   "source": [
    "train_dataset = SiameseDataset(train_data[\"Report1\"].tolist(),train_data[\"Report2\"].tolist(), train_data[\"label\"].tolist())\n",
    "test_dataset = SiameseDataset(test_data[\"Report1\"].tolist(),test_data[\"Report2\"].tolist(), test_data[\"label\"].tolist())\n",
    "\n",
    "train_data_loader = DataLoader(train_dataset, batch_size=4, shuffle=True)\n",
    "test_data_loader = DataLoader(test_dataset, batch_size=4, shuffle=True)"
   ]
  },
  {
   "cell_type": "code",
   "execution_count": null,
   "metadata": {},
   "outputs": [],
   "source": [
    "# Kaggle Data\n",
    "dataset = SiameseDataset(df[\"prompt\"].tolist(),df[\"answer_text\"].tolist(), df[\"labels\"].tolist())\n",
    "data_loader = DataLoader(dataset, batch_size=2, shuffle=True)"
   ]
  },
  {
   "cell_type": "markdown",
   "metadata": {},
   "source": [
    "# Siamese Network Architecture"
   ]
  },
  {
   "cell_type": "code",
   "execution_count": null,
   "metadata": {},
   "outputs": [],
   "source": [
    "# Base Model : BERT\n",
    "class SiameseNetwork(nn.Module):\n",
    "    def __init__(self, base_model):\n",
    "        super(SiameseNetwork, self).__init__()\n",
    "        self.base_model = base_model\n",
    "\n",
    "    def forward(self, inputs1, inputs2):\n",
    "        outputs1 = self.base_model(**inputs1).last_hidden_state[:, 0, :].squeeze()  \n",
    "        outputs2 = self.base_model(**inputs2).last_hidden_state[:, 0, :].squeeze()\n",
    "        return outputs1, outputs2\n",
    "\n",
    "siamese_model = SiameseNetwork(model)"
   ]
  },
  {
   "cell_type": "code",
   "execution_count": 14,
   "metadata": {},
   "outputs": [],
   "source": [
    "# Base Model : LLaMA3.1\n",
    "# Layer : 1\n",
    "class SiameseNetwork(nn.Module):\n",
    "    def __init__(self, base_model):\n",
    "        super(SiameseNetwork, self).__init__()\n",
    "        self.base_model = base_model\n",
    "\n",
    "    def forward(self, inputs1, inputs2):\n",
    "        outputs1 = torch.mean(self.base_model(**inputs1).hidden_states[-1], axis=1)\n",
    "        outputs2 = torch.mean(self.base_model(**inputs2).hidden_states[-1], axis=1)\n",
    "        return outputs1, outputs2\n",
    "\n",
    "siamese_model = SiameseNetwork(model)"
   ]
  },
  {
   "cell_type": "code",
   "execution_count": null,
   "metadata": {},
   "outputs": [],
   "source": [
    "# Base Model : LLaMA3.1\n",
    "# Layer : 5\n",
    "class SiameseNetwork(nn.Module):\n",
    "    def __init__(self, base_model):\n",
    "        super(SiameseNetwork, self).__init__()\n",
    "        self.base_model = base_model\n",
    "\n",
    "    def forward(self, inputs1, inputs2):\n",
    "        output1_5L = []\n",
    "        output2_5L = []\n",
    "        for layer in range(-1, -6, -1):\n",
    "            output1_5L.append(torch.mean(self.base_model(**inputs1).hidden_states[layer], axis=1))\n",
    "            output2_5L.append(torch.mean(self.base_model(**inputs2).hidden_states[layer], axis=1))\n",
    "        output1_5L = torch.stack(output1_5L, axis=1).squeeze()\n",
    "        output2_5L = torch.stack(output2_5L, axis=1).squeeze()\n",
    "        return output1_5L, output2_5L\n",
    "    \n",
    "siamese_model = SiameseNetwork(model)"
   ]
  },
  {
   "cell_type": "code",
   "execution_count": null,
   "metadata": {},
   "outputs": [
    {
     "name": "stderr",
     "output_type": "stream",
     "text": [
      "We detected that you are passing `past_key_values` as a tuple and this is deprecated and will be removed in v4.43. Please use an appropriate `Cache` class (https://huggingface.co/docs/transformers/v4.41.3/en/internal/generation_utils#transformers.Cache)\n"
     ]
    },
    {
     "data": {
      "text/plain": [
       "tensor([[0.8991, 0.3776, 0.3680,  ..., 1.7692, 0.1399, 1.7671]],\n",
       "       grad_fn=<MeanBackward1>)"
      ]
     },
     "metadata": {},
     "output_type": "display_data"
    },
    {
     "data": {
      "text/plain": [
       "tensor([[-0.1942, -0.4983,  1.6858,  ...,  1.7883,  0.3264,  1.6927]],\n",
       "       grad_fn=<MeanBackward1>)"
      ]
     },
     "metadata": {},
     "output_type": "display_data"
    }
   ],
   "source": [
    "text1 = train_dataset[0][0]\n",
    "text2 = train_dataset[0][1]\n",
    "\n",
    "inputs1 = tokenizer(text1, padding=\"max_length\", truncation=True, max_length=128, return_tensors=\"pt\")\n",
    "inputs2 = tokenizer(text2, padding=\"max_length\", truncation=True, max_length=128, return_tensors=\"pt\")\n",
    "\n",
    "outputs1, outputs2 = siamese_model(inputs1, inputs2)\n",
    "\n",
    "display(outputs1, outputs2)"
   ]
  },
  {
   "cell_type": "markdown",
   "metadata": {},
   "source": [
    "# Contrastive Loss for Siamese Network"
   ]
  },
  {
   "cell_type": "code",
   "execution_count": null,
   "metadata": {},
   "outputs": [],
   "source": [
    "# Euclidean_Distance\n",
    "\n",
    "class ContrastiveLoss(nn.Module):\n",
    "    def __init__(self, margin=1.0):\n",
    "        super(ContrastiveLoss, self).__init__()\n",
    "        self.margin = margin\n",
    "\n",
    "    def forward(self, outputs1, outputs2, labels):\n",
    "        euclidean_distance = nn.functional.pairwise_distance(outputs1, outputs2, keepdim=True)\n",
    "        loss_contrastive = torch.mean((1 - labels) * torch.pow(euclidean_distance, 2) +\n",
    "                                      (labels) * torch.pow(torch.clamp(self.margin - euclidean_distance, min=0.0), 2))\n",
    "        return loss_contrastive"
   ]
  },
  {
   "cell_type": "code",
   "execution_count": 31,
   "metadata": {},
   "outputs": [],
   "source": [
    "# Cosine_Similarity\n",
    "\n",
    "class ContrastiveLoss(nn.Module):\n",
    "    def __init__(self, margin=1.0):\n",
    "        super(ContrastiveLoss, self).__init__()\n",
    "        self.margin = margin\n",
    "\n",
    "    def forward(self, outputs1, outputs2, labels):\n",
    "        cosine_similarity = F.cosine_similarity(outputs1, outputs2)\n",
    "        loss_contrastive = torch.mean((1 - labels) * torch.clamp(cosine_similarity - self.margin, min=0.0) +\n",
    "                                (labels) * (1 - cosine_similarity))\n",
    "        return loss_contrastive"
   ]
  },
  {
   "cell_type": "markdown",
   "metadata": {},
   "source": [
    "# Training Loop"
   ]
  },
  {
   "cell_type": "code",
   "execution_count": 34,
   "metadata": {},
   "outputs": [
    {
     "name": "stderr",
     "output_type": "stream",
     "text": [
      "  0%|          | 0/5 [00:00<?, ?it/s]"
     ]
    },
    {
     "name": "stderr",
     "output_type": "stream",
     "text": [
      "100%|██████████| 16/16 [00:47<00:00,  2.96s/it]\n"
     ]
    },
    {
     "name": "stdout",
     "output_type": "stream",
     "text": [
      "Epoch 1/5 - Training Loss: 0.0161\n"
     ]
    },
    {
     "name": "stderr",
     "output_type": "stream",
     "text": [
      "We detected that you are passing `past_key_values` as a tuple and this is deprecated and will be removed in v4.43. Please use an appropriate `Cache` class (https://huggingface.co/docs/transformers/v4.41.3/en/internal/generation_utils#transformers.Cache)\n",
      "100%|██████████| 16/16 [00:16<00:00,  1.04s/it]\n"
     ]
    },
    {
     "name": "stdout",
     "output_type": "stream",
     "text": [
      "Epoch 1/5 - Validation Loss: 0.0077\n"
     ]
    },
    {
     "name": "stderr",
     "output_type": "stream",
     "text": [
      " 20%|██        | 1/5 [01:12<04:51, 72.76s/it]"
     ]
    },
    {
     "name": "stdout",
     "output_type": "stream",
     "text": [
      "Model Saved\n"
     ]
    },
    {
     "name": "stderr",
     "output_type": "stream",
     "text": [
      "`use_cache=True` is incompatible with gradient checkpointing. Setting `use_cache=False`.\n",
      "100%|██████████| 16/16 [00:46<00:00,  2.91s/it]\n"
     ]
    },
    {
     "name": "stdout",
     "output_type": "stream",
     "text": [
      "Epoch 2/5 - Training Loss: 0.0152\n"
     ]
    },
    {
     "name": "stderr",
     "output_type": "stream",
     "text": [
      "100%|██████████| 16/16 [00:16<00:00,  1.05s/it]\n"
     ]
    },
    {
     "name": "stdout",
     "output_type": "stream",
     "text": [
      "Epoch 2/5 - Validation Loss: 0.0072\n"
     ]
    },
    {
     "name": "stderr",
     "output_type": "stream",
     "text": [
      " 40%|████      | 2/5 [03:34<05:40, 113.37s/it]"
     ]
    },
    {
     "name": "stdout",
     "output_type": "stream",
     "text": [
      "Model Saved\n"
     ]
    },
    {
     "name": "stderr",
     "output_type": "stream",
     "text": [
      "100%|██████████| 16/16 [00:46<00:00,  2.90s/it]\n"
     ]
    },
    {
     "name": "stdout",
     "output_type": "stream",
     "text": [
      "Epoch 3/5 - Training Loss: 0.0136\n"
     ]
    },
    {
     "name": "stderr",
     "output_type": "stream",
     "text": [
      "100%|██████████| 16/16 [00:16<00:00,  1.05s/it]\n"
     ]
    },
    {
     "name": "stdout",
     "output_type": "stream",
     "text": [
      "Epoch 3/5 - Validation Loss: 0.0066\n"
     ]
    },
    {
     "name": "stderr",
     "output_type": "stream",
     "text": [
      " 60%|██████    | 3/5 [04:46<03:08, 94.47s/it] "
     ]
    },
    {
     "name": "stdout",
     "output_type": "stream",
     "text": [
      "Model Saved\n"
     ]
    },
    {
     "name": "stderr",
     "output_type": "stream",
     "text": [
      "100%|██████████| 16/16 [00:46<00:00,  2.91s/it]\n"
     ]
    },
    {
     "name": "stdout",
     "output_type": "stream",
     "text": [
      "Epoch 4/5 - Training Loss: 0.0118\n"
     ]
    },
    {
     "name": "stderr",
     "output_type": "stream",
     "text": [
      "100%|██████████| 16/16 [00:16<00:00,  1.05s/it]\n"
     ]
    },
    {
     "name": "stdout",
     "output_type": "stream",
     "text": [
      "Epoch 4/5 - Validation Loss: 0.0058\n"
     ]
    },
    {
     "name": "stderr",
     "output_type": "stream",
     "text": [
      " 80%|████████  | 4/5 [07:08<01:53, 113.31s/it]"
     ]
    },
    {
     "name": "stdout",
     "output_type": "stream",
     "text": [
      "Model Saved\n"
     ]
    },
    {
     "name": "stderr",
     "output_type": "stream",
     "text": [
      "100%|██████████| 16/16 [00:46<00:00,  2.90s/it]\n"
     ]
    },
    {
     "name": "stdout",
     "output_type": "stream",
     "text": [
      "Epoch 5/5 - Training Loss: 0.0098\n"
     ]
    },
    {
     "name": "stderr",
     "output_type": "stream",
     "text": [
      "100%|██████████| 16/16 [00:16<00:00,  1.05s/it]\n"
     ]
    },
    {
     "name": "stdout",
     "output_type": "stream",
     "text": [
      "Epoch 5/5 - Validation Loss: 0.0049\n"
     ]
    },
    {
     "name": "stderr",
     "output_type": "stream",
     "text": [
      "100%|██████████| 5/5 [08:20<00:00, 100.13s/it]"
     ]
    },
    {
     "name": "stdout",
     "output_type": "stream",
     "text": [
      "Model Saved\n"
     ]
    },
    {
     "name": "stderr",
     "output_type": "stream",
     "text": [
      "\n"
     ]
    }
   ],
   "source": [
    "### LLaMA3.1 Tumor Data Training ###\n",
    "\n",
    "model.config.use_cache = False\n",
    "epochs = 5\n",
    "best_val_loss = float('inf')\n",
    "\n",
    "optimizer = torch.optim.AdamW(model.parameters(), lr=1e-5)\n",
    "# scheduler = optim.lr_scheduler.StepLR(optimizer, step_size=3, gamma=0.1)\n",
    "loss_fn = ContrastiveLoss()\n",
    "device = torch.device(\"cuda:0\" if torch.cuda.is_available() else \"cpu\")\n",
    "\n",
    "for epoch in trange(epochs):\n",
    "    model.train()\n",
    "    train_loss = 0\n",
    "    for batch, sample in enumerate(tqdm(train_data_loader)):\n",
    "        text1 = sample[0]\n",
    "        text2 = sample[1]\n",
    "        labels = sample[2]\n",
    "        \n",
    "        inputs1 = tokenizer(text1, padding=\"max_length\", truncation=True, max_length=128, return_tensors=\"pt\").to(device)\n",
    "        inputs2 = tokenizer(text2, padding=\"max_length\", truncation=True, max_length=128, return_tensors=\"pt\").to(device)\n",
    "        labels = labels.to(device)\n",
    "\n",
    "        optimizer.zero_grad()\n",
    "        outputs1, outputs2 = siamese_model(inputs1, inputs2)\n",
    "        loss = loss_fn(outputs1, outputs2, labels)\n",
    "        train_loss += loss.item()\n",
    "        loss.backward()\n",
    "        optimizer.step()\n",
    "        \n",
    "        # torch.cuda.empty_cache()\n",
    "    \n",
    "    # scheduler.step()\n",
    "    train_loss /= len(train_data_loader)\n",
    "    print(f\"Epoch {epoch+1}/{epochs} - Training Loss: {train_loss:.4f}\")\n",
    "    \n",
    "    \n",
    "    # Validation\n",
    "    model.eval()\n",
    "    model.config.use_cache = True\n",
    "    val_loss = 0\n",
    "    \n",
    "    with torch.no_grad():\n",
    "        for batch, sample in enumerate(tqdm(test_data_loader)):\n",
    "            text1 = sample[0]\n",
    "            text2 = sample[1]\n",
    "            labels = sample[2]\n",
    "\n",
    "            inputs1 = tokenizer(text1, padding=\"max_length\", truncation=True, max_length=128, return_tensors=\"pt\").to(device)\n",
    "            inputs2 = tokenizer(text2, padding=\"max_length\", truncation=True, max_length=128, return_tensors=\"pt\").to(device)\n",
    "            labels = labels.to(device)\n",
    "\n",
    "            outputs1, outputs2 = siamese_model(inputs1, inputs2)\n",
    "            loss = loss_fn(outputs1, outputs2, labels)\n",
    "            val_loss += loss.item()\n",
    "            \n",
    "            # torch.cuda.empty_cache()\n",
    "        \n",
    "        val_loss /= len(test_data_loader)\n",
    "        print(f\"Epoch {epoch+1}/{epochs} - Validation Loss: {val_loss:.4f}\")\n",
    "\n",
    "        \n",
    "        \n",
    "        ### model save ###\n",
    "        if val_loss < best_val_loss:\n",
    "            best_val_loss = val_loss\n",
    "            torch.save(model.state_dict(), '/home/team33/model_save/0816_llama3.1_siamese.pth')\n",
    "            print(\"Model Saved\")"
   ]
  },
  {
   "cell_type": "code",
   "execution_count": null,
   "metadata": {},
   "outputs": [
    {
     "name": "stderr",
     "output_type": "stream",
     "text": [
      "100%|██████████| 16/16 [00:46<00:00,  2.91s/it]\n"
     ]
    },
    {
     "name": "stdout",
     "output_type": "stream",
     "text": [
      "Epoch 1/5 - Training Loss: 0.5488\n"
     ]
    },
    {
     "name": "stderr",
     "output_type": "stream",
     "text": [
      "We detected that you are passing `past_key_values` as a tuple and this is deprecated and will be removed in v4.43. Please use an appropriate `Cache` class (https://huggingface.co/docs/transformers/v4.41.3/en/internal/generation_utils#transformers.Cache)\n",
      "100%|██████████| 16/16 [00:16<00:00,  1.05s/it]\n"
     ]
    },
    {
     "name": "stdout",
     "output_type": "stream",
     "text": [
      "Epoch 1/5 - Validation Loss: 0.5355\n"
     ]
    },
    {
     "name": "stderr",
     "output_type": "stream",
     "text": [
      " 20%|██        | 1/5 [01:12<04:48, 72.14s/it]"
     ]
    },
    {
     "name": "stdout",
     "output_type": "stream",
     "text": [
      "Model Saved\n"
     ]
    },
    {
     "name": "stderr",
     "output_type": "stream",
     "text": [
      "`use_cache=True` is incompatible with gradient checkpointing. Setting `use_cache=False`.\n",
      "100%|██████████| 16/16 [00:47<00:00,  2.95s/it]\n"
     ]
    },
    {
     "name": "stdout",
     "output_type": "stream",
     "text": [
      "Epoch 2/5 - Training Loss: 0.5475\n"
     ]
    },
    {
     "name": "stderr",
     "output_type": "stream",
     "text": [
      "100%|██████████| 16/16 [00:16<00:00,  1.06s/it]\n"
     ]
    },
    {
     "name": "stdout",
     "output_type": "stream",
     "text": [
      "Epoch 2/5 - Validation Loss: 0.5351\n"
     ]
    },
    {
     "name": "stderr",
     "output_type": "stream",
     "text": [
      " 40%|████      | 2/5 [03:35<05:42, 114.04s/it]"
     ]
    },
    {
     "name": "stdout",
     "output_type": "stream",
     "text": [
      "Model Saved\n"
     ]
    },
    {
     "name": "stderr",
     "output_type": "stream",
     "text": [
      "100%|██████████| 16/16 [00:46<00:00,  2.93s/it]\n"
     ]
    },
    {
     "name": "stdout",
     "output_type": "stream",
     "text": [
      "Epoch 3/5 - Training Loss: 0.5459\n"
     ]
    },
    {
     "name": "stderr",
     "output_type": "stream",
     "text": [
      "100%|██████████| 16/16 [00:16<00:00,  1.05s/it]\n"
     ]
    },
    {
     "name": "stdout",
     "output_type": "stream",
     "text": [
      "Epoch 3/5 - Validation Loss: 0.5347\n"
     ]
    },
    {
     "name": "stderr",
     "output_type": "stream",
     "text": [
      " 60%|██████    | 3/5 [04:48<03:10, 95.16s/it] "
     ]
    },
    {
     "name": "stdout",
     "output_type": "stream",
     "text": [
      "Model Saved\n"
     ]
    },
    {
     "name": "stderr",
     "output_type": "stream",
     "text": [
      "100%|██████████| 16/16 [00:47<00:00,  2.96s/it]\n"
     ]
    },
    {
     "name": "stdout",
     "output_type": "stream",
     "text": [
      "Epoch 4/5 - Training Loss: 0.5438\n"
     ]
    },
    {
     "name": "stderr",
     "output_type": "stream",
     "text": [
      "100%|██████████| 16/16 [00:16<00:00,  1.06s/it]\n"
     ]
    },
    {
     "name": "stdout",
     "output_type": "stream",
     "text": [
      "Epoch 4/5 - Validation Loss: 0.5339\n"
     ]
    }
   ],
   "source": [
    "### LLaMA3.1 Tumor Data Training with cosine_loss ###\n",
    "\n",
    "model.config.use_cache = False\n",
    "epochs = 5\n",
    "best_val_loss = float('inf')\n",
    "\n",
    "optimizer = torch.optim.AdamW(model.parameters(), lr=1e-5)\n",
    "# scheduler = optim.lr_scheduler.StepLR(optimizer, step_size=3, gamma=0.1)\n",
    "loss_fn = nn.CosineEmbeddingLoss(reduction='mean')\n",
    "device = torch.device(\"cuda:0\" if torch.cuda.is_available() else \"cpu\")\n",
    "\n",
    "for epoch in trange(epochs):\n",
    "    model.train()\n",
    "    train_loss = 0\n",
    "    for batch, sample in enumerate(tqdm(train_data_loader)):\n",
    "        text1 = sample[0]\n",
    "        text2 = sample[1]\n",
    "        labels = sample[2]\n",
    "        \n",
    "        inputs1 = tokenizer(text1, padding=\"max_length\", truncation=True, max_length=128, return_tensors=\"pt\").to(device)\n",
    "        inputs2 = tokenizer(text2, padding=\"max_length\", truncation=True, max_length=128, return_tensors=\"pt\").to(device)\n",
    "        labels = labels.to(device)\n",
    "\n",
    "        optimizer.zero_grad()\n",
    "        outputs1, outputs2 = siamese_model(inputs1, inputs2)\n",
    "        loss = loss_fn(outputs1, outputs2, labels)\n",
    "        train_loss += loss.item()\n",
    "        loss.backward()\n",
    "        optimizer.step()\n",
    "        \n",
    "        # torch.cuda.empty_cache()\n",
    "    \n",
    "    # scheduler.step()\n",
    "    train_loss /= len(train_data_loader)\n",
    "    print(f\"Epoch {epoch+1}/{epochs} - Training Loss: {train_loss:.4f}\")\n",
    "    \n",
    "    \n",
    "    # Validation\n",
    "    model.eval()\n",
    "    model.config.use_cache = True\n",
    "    val_loss = 0\n",
    "    \n",
    "    with torch.no_grad():\n",
    "        for batch, sample in enumerate(tqdm(test_data_loader)):\n",
    "            text1 = sample[0]\n",
    "            text2 = sample[1]\n",
    "            labels = sample[2]\n",
    "\n",
    "            inputs1 = tokenizer(text1, padding=\"max_length\", truncation=True, max_length=512, return_tensors=\"pt\").to(device)\n",
    "            inputs2 = tokenizer(text2, padding=\"max_length\", truncation=True, max_length=512, return_tensors=\"pt\").to(device)\n",
    "            labels = labels.to(device)\n",
    "\n",
    "            outputs1, outputs2 = siamese_model(inputs1, inputs2)\n",
    "            loss = loss_fn(outputs1, outputs2, labels)\n",
    "            val_loss += loss.item()\n",
    "            \n",
    "            # torch.cuda.empty_cache()\n",
    "        \n",
    "        val_loss /= len(test_data_loader)\n",
    "        print(f\"Epoch {epoch+1}/{epochs} - Validation Loss: {val_loss:.4f}\")\n",
    "\n",
    "        \n",
    "        \n",
    "        ### model save ###\n",
    "        if val_loss < best_val_loss:\n",
    "            best_val_loss = val_loss\n",
    "            torch.save(model.state_dict(), '/home/team33/model_save/0816_llama3.1_siamese.pth')\n",
    "            print(\"Model Saved\")"
   ]
  },
  {
   "cell_type": "code",
   "execution_count": 33,
   "metadata": {},
   "outputs": [
    {
     "data": {
      "text/plain": [
       "tensor([0.1362, 0.8744, 0.2251, 0.8032], device='cuda:0',\n",
       "       grad_fn=<AddBackward0>)"
      ]
     },
     "execution_count": 33,
     "metadata": {},
     "output_type": "execute_result"
    }
   ],
   "source": [
    "loss"
   ]
  },
  {
   "cell_type": "code",
   "execution_count": null,
   "metadata": {},
   "outputs": [],
   "source": [
    "### LLaMA3.1 Kaggle Data Training ###\n",
    "\n",
    "model.config.use_cache = False\n",
    "epochs = 10 \n",
    "\n",
    "optimizer = torch.optim.AdamW(model.parameters(), lr=1e-5)\n",
    "scheduler = optim.lr_scheduler.StepLR(optimizer, step_size=3, gamma=0.1)\n",
    "loss_fn = ContrastiveLoss()\n",
    "\n",
    "device = torch.device(\"cuda:0\" if torch.cuda.is_available() else \"cpu\")\n",
    "print(device)\n",
    "for epoch in tqdm(range(epochs)):\n",
    "    model.train()\n",
    "    train_loss = 0\n",
    "    for batch, sample in enumerate(tqdm(train_dataset)):\n",
    "        text1 = sample[0]\n",
    "        text2 = sample[1]\n",
    "        labels = sample[2]\n",
    "        \n",
    "        inputs1 = tokenizer(text1, padding=\"max_length\", truncation=True, max_length=128, return_tensors=\"pt\").to(device)\n",
    "        inputs2 = tokenizer(text2, padding=\"max_length\", truncation=True, max_length=128, return_tensors=\"pt\").to(device)\n",
    "        labels = labels.to(device)\n",
    "\n",
    "        optimizer.zero_grad()\n",
    "        outputs1, outputs2 = siamese_model(inputs1, inputs2)\n",
    "        loss = loss_fn(outputs1, outputs2, labels)\n",
    "        train_loss += loss.item()\n",
    "        loss.backward()\n",
    "        optimizer.step()\n",
    "        \n",
    "        torch.cuda.empty_cache()\n",
    "    \n",
    "    scheduler.step()\n",
    "    train_loss /= len(train_dataset)\n",
    "    print(f\"Epoch {epoch+1}/{epochs} - Training Loss: {train_loss:.4f}\")\n",
    "\n",
    "# model save\n",
    "torch.save(model.state_dict(), '/home/team33/model_save/0815_llama3.1_siamese.pth')\n",
    "print(\"Model Saved\")"
   ]
  },
  {
   "cell_type": "code",
   "execution_count": null,
   "metadata": {},
   "outputs": [
    {
     "name": "stdout",
     "output_type": "stream",
     "text": [
      "cuda:0\n",
      "Epoch 1/10 - Average Loss: 10.2656\n",
      "Epoch 2/10 - Average Loss: 0.7115\n",
      "Epoch 3/10 - Average Loss: 0.4161\n",
      "Epoch 4/10 - Average Loss: 0.3312\n",
      "Epoch 5/10 - Average Loss: 0.3210\n",
      "Epoch 6/10 - Average Loss: 0.3108\n",
      "Epoch 7/10 - Average Loss: 0.3045\n",
      "Epoch 8/10 - Average Loss: 0.3033\n",
      "Epoch 9/10 - Average Loss: 0.3012\n",
      "Epoch 10/10 - Average Loss: 0.3020\n"
     ]
    }
   ],
   "source": [
    "### BERT Kaggle Data Training ###\n",
    "\n",
    "optimizer = optim.Adam(siamese_model.parameters(), lr=1e-5)\n",
    "scheduler = optim.lr_scheduler.StepLR(optimizer, step_size=3, gamma=0.1)\n",
    "\n",
    "num_epochs = 10\n",
    "device = torch.device(\"cuda:0\" if torch.cuda.is_available() else \"cpu\")\n",
    "print(device)\n",
    "siamese_model.to(device)\n",
    "criterion = ContrastiveLoss()\n",
    "for epoch in range(num_epochs):\n",
    "    total_loss = 0\n",
    "    for text1, text2, labels in data_loader:\n",
    "        \n",
    "        inputs1 = tokenizer(text1, padding=\"max_length\", truncation=True, max_length=128, return_tensors=\"pt\")\n",
    "        inputs2 = tokenizer(text2, padding=\"max_length\", truncation=True, max_length=128, return_tensors=\"pt\")\n",
    "                \n",
    "        inputs1 = inputs1.to(device)\n",
    "        inputs2 = inputs2.to(device)\n",
    "        labels = labels.to(device)\n",
    "\n",
    "        optimizer.zero_grad()\n",
    "        outputs1, outputs2 = siamese_model(inputs1, inputs2)\n",
    "        loss = criterion(outputs1, outputs2, labels)\n",
    "        total_loss += loss.item()\n",
    "        loss.backward()\n",
    "        optimizer.step()\n",
    "\n",
    "    scheduler.step()\n",
    "    avg_loss = total_loss / len(data_loader)\n",
    "    print(f\"Epoch {epoch+1}/{num_epochs} - Average Loss: {avg_loss:.4f}\")"
   ]
  },
  {
   "cell_type": "markdown",
   "metadata": {},
   "source": [
    "# Prediction on train data"
   ]
  },
  {
   "cell_type": "code",
   "execution_count": 9,
   "metadata": {},
   "outputs": [
    {
     "name": "stderr",
     "output_type": "stream",
     "text": [
      "We detected that you are passing `past_key_values` as a tuple and this is deprecated and will be removed in v4.43. Please use an appropriate `Cache` class (https://huggingface.co/docs/transformers/v4.41.3/en/internal/generation_utils#transformers.Cache)\n"
     ]
    }
   ],
   "source": [
    "# Euclidean_Distance\n",
    "\n",
    "model.config.use_cache = True\n",
    "siamese_model.eval()\n",
    "device = torch.device(\"cuda:0\" if torch.cuda.is_available() else \"cpu\")\n",
    "\n",
    "predictions = []\n",
    "with torch.no_grad():\n",
    "    for text1, text2, labels in data_loader:\n",
    "        \n",
    "        inputs1 = tokenizer(text1, padding=\"max_length\", truncation=True, max_length=128, return_tensors=\"pt\").to(device)\n",
    "        inputs2 = tokenizer(text2, padding=\"max_length\", truncation=True, max_length=128, return_tensors=\"pt\").to(device)\n",
    "        \n",
    "        outputs1, outputs2 = siamese_model(inputs1, inputs2)\n",
    "        distances = torch.nn.functional.pairwise_distance(outputs1, outputs2)\n",
    "        predictions.extend(distances.cpu().numpy())"
   ]
  },
  {
   "cell_type": "code",
   "execution_count": 15,
   "metadata": {},
   "outputs": [],
   "source": [
    "# kaggle cosine_similarity\n",
    "\n",
    "model.config.use_cache = True\n",
    "siamese_model.eval()\n",
    "device = torch.device(\"cuda:0\" if torch.cuda.is_available() else \"cpu\")\n",
    "\n",
    "predictions = []\n",
    "with torch.no_grad():\n",
    "    for text1, text2, labels in data_loader:\n",
    "        \n",
    "        inputs1 = tokenizer(text1, padding=\"max_length\", truncation=True, max_length=128, return_tensors=\"pt\").to(device)\n",
    "        inputs2 = tokenizer(text2, padding=\"max_length\", truncation=True, max_length=128, return_tensors=\"pt\").to(device)\n",
    "        \n",
    "        outputs1, outputs2 = siamese_model(inputs1, inputs2)\n",
    "        distances = F.cosine_similarity(outputs1, outputs2)\n",
    "        predictions.extend(distances.cpu().numpy())\n"
   ]
  },
  {
   "cell_type": "code",
   "execution_count": 36,
   "metadata": {},
   "outputs": [],
   "source": [
    "# Cosine_Similarity\n",
    "\n",
    "model.config.use_cache = True\n",
    "siamese_model.eval()\n",
    "device = torch.device(\"cuda:0\" if torch.cuda.is_available() else \"cpu\")\n",
    "\n",
    "predictions = []\n",
    "with torch.no_grad():\n",
    "    for text1, text2, labels in test_data_loader:\n",
    "        \n",
    "        inputs1 = tokenizer(text1, padding=\"max_length\", truncation=True, max_length=128, return_tensors=\"pt\").to(device)\n",
    "        inputs2 = tokenizer(text2, padding=\"max_length\", truncation=True, max_length=128, return_tensors=\"pt\").to(device)\n",
    "        \n",
    "        outputs1, outputs2 = siamese_model(inputs1, inputs2)\n",
    "        distances = F.cosine_similarity(outputs1, outputs2)\n",
    "        predictions.extend(distances.cpu().numpy())"
   ]
  },
  {
   "cell_type": "markdown",
   "metadata": {},
   "source": [
    "# Evaluation"
   ]
  },
  {
   "cell_type": "code",
   "execution_count": null,
   "metadata": {},
   "outputs": [
    {
     "name": "stdout",
     "output_type": "stream",
     "text": [
      "0.89193785 0.88468075\n"
     ]
    },
    {
     "data": {
      "text/plain": [
       "<Axes: xlabel='predicted_labels', ylabel='Density'>"
      ]
     },
     "execution_count": 50,
     "metadata": {},
     "output_type": "execute_result"
    },
    {
     "data": {
      "image/png": "[encoded data removed]",
      "text/plain": [
       "<Figure size 432x288 with 1 Axes>"
      ]
     },
     "metadata": {
      "needs_background": "light"
     },
     "output_type": "display_data"
    }
   ],
   "source": [
    "train_data['predicted_labels'] = train_predictions\n",
    "print(train_data[train_data['label']==1]['predicted_labels'].mean(), train_data[train_data['label']==0]['predicted_labels'].mean())\n",
    "\n",
    "sns.distplot(train_data[train_data['label']==1]['predicted_labels'])\n",
    "sns.distplot(train_data[train_data['label']==0]['predicted_labels'])"
   ]
  },
  {
   "cell_type": "code",
   "execution_count": 10,
   "metadata": {},
   "outputs": [
    {
     "name": "stdout",
     "output_type": "stream",
     "text": [
      "1.5516717 1.6001276\n"
     ]
    },
    {
     "data": {
      "text/plain": [
       "<Axes: xlabel='predicted_labels', ylabel='Density'>"
      ]
     },
     "execution_count": 10,
     "metadata": {},
     "output_type": "execute_result"
    },
    {
     "data": {
      "image/png": "[encoded data removed]",
      "text/plain": [
       "<Figure size 432x288 with 1 Axes>"
      ]
     },
     "metadata": {
      "needs_background": "light"
     },
     "output_type": "display_data"
    }
   ],
   "source": [
    "#kaggle euclidean_distance\n",
    "df['predicted_labels'] = predictions\n",
    "print(df[df['labels']==1]['predicted_labels'].mean(), df[df['labels']==0]['predicted_labels'].mean())\n",
    "\n",
    "sns.distplot(df[df['labels']==1]['predicted_labels'])\n",
    "sns.distplot(df[df['labels']==0]['predicted_labels'])"
   ]
  },
  {
   "cell_type": "code",
   "execution_count": 16,
   "metadata": {},
   "outputs": [
    {
     "name": "stdout",
     "output_type": "stream",
     "text": [
      "0.9998852 0.9998866\n"
     ]
    },
    {
     "data": {
      "text/plain": [
       "<Axes: xlabel='predicted_labels', ylabel='Density'>"
      ]
     },
     "execution_count": 16,
     "metadata": {},
     "output_type": "execute_result"
    },
    {
     "data": {
      "image/png": "[encoded data removed]",
      "text/plain": [
       "<Figure size 432x288 with 1 Axes>"
      ]
     },
     "metadata": {
      "needs_background": "light"
     },
     "output_type": "display_data"
    }
   ],
   "source": [
    "#kaggle cosine_similarity\n",
    "df['predicted_labels'] = predictions\n",
    "print(df[df['labels']==1]['predicted_labels'].mean(), df[df['labels']==0]['predicted_labels'].mean())\n",
    "\n",
    "sns.distplot(df[df['labels']==1]['predicted_labels'])\n",
    "sns.distplot(df[df['labels']==0]['predicted_labels'])"
   ]
  },
  {
   "cell_type": "code",
   "execution_count": 18,
   "metadata": {},
   "outputs": [
    {
     "name": "stdout",
     "output_type": "stream",
     "text": [
      "threshold: 0.1\n",
      "Accuracy:  0.2\n",
      "\n",
      "threshold: 0.2\n",
      "Accuracy:  0.2\n",
      "\n",
      "threshold: 0.3\n",
      "Accuracy:  0.2\n",
      "\n",
      "threshold: 0.4\n",
      "Accuracy:  0.2\n",
      "\n",
      "threshold: 0.5\n",
      "Accuracy:  0.2\n",
      "\n",
      "threshold: 0.6\n",
      "Accuracy:  0.2\n",
      "\n",
      "threshold: 0.7\n",
      "Accuracy:  0.2\n",
      "\n",
      "threshold: 0.8\n",
      "Accuracy:  0.2\n",
      "\n"
     ]
    }
   ],
   "source": [
    "# Euclidean_Distance\n",
    "\n",
    "for i in range(1,9):\n",
    "    print('threshold:',i/10)\n",
    "    threshold = i/10 \n",
    "    predicted_labels = [1 if distance < threshold else 0 for distance in predictions]\n",
    "    df['predicted_labels'] = predicted_labels\n",
    "    print('Accuracy: ',sum(np.where(df['labels']==df['predicted_labels'],1,0))/1000)\n",
    "    print()"
   ]
  },
  {
   "cell_type": "code",
   "execution_count": null,
   "metadata": {},
   "outputs": [
    {
     "name": "stdout",
     "output_type": "stream",
     "text": [
      "threshold: 0.1\n",
      "Accuracy:  0.032\n",
      "\n",
      "threshold: 0.2\n",
      "Accuracy:  0.032\n",
      "\n",
      "threshold: 0.3\n",
      "Accuracy:  0.032\n",
      "\n",
      "threshold: 0.4\n",
      "Accuracy:  0.032\n",
      "\n",
      "threshold: 0.5\n",
      "Accuracy:  0.032\n",
      "\n",
      "threshold: 0.6\n",
      "Accuracy:  0.032\n",
      "\n",
      "threshold: 0.7\n",
      "Accuracy:  0.031\n",
      "\n",
      "threshold: 0.8\n",
      "Accuracy:  0.034\n",
      "\n",
      "threshold: 0.9\n",
      "Accuracy:  0.034\n",
      "\n"
     ]
    }
   ],
   "source": [
    "# Cosine_Similarity\n",
    "\n",
    "for i in range(1,10):\n",
    "    print('threshold:',i/10)\n",
    "    threshold = i/10 \n",
    "    predicted_labels = [1 if cos_sim > threshold else 0 for cos_sim in train_predictions]\n",
    "    train_data['predicted_labels'] = predicted_labels\n",
    "    print('Accuracy: ',sum(np.where(train_data['label']==train_data['predicted_labels'],1,0))/1000)\n",
    "    print()"
   ]
  },
  {
   "cell_type": "markdown",
   "metadata": {},
   "source": [
    "# Inferencing"
   ]
  },
  {
   "cell_type": "code",
   "execution_count": 37,
   "metadata": {},
   "outputs": [],
   "source": [
    "test =  pd.read_csv('/home/team33/siamese/kaggle-llm-science-exam/test.csv')\n",
    "test = pd.melt(test, id_vars=['id','prompt'], value_vars=['A', 'B', 'C', 'D', 'E'], var_name='prediction', value_name='answer_text')\n",
    "test = test.reset_index(drop = True)"
   ]
  },
  {
   "cell_type": "code",
   "execution_count": 38,
   "metadata": {},
   "outputs": [],
   "source": [
    "class SiameseDataset(Dataset):\n",
    "    def __init__(self, prompt, answer_text):\n",
    "        self.text1 = prompt\n",
    "        self.text2 = answer_text\n",
    "\n",
    "    def __len__(self):\n",
    "        return len(self.text1)\n",
    "\n",
    "    def __getitem__(self, idx):\n",
    "        text1 = self.text1[idx]\n",
    "        text2 = self.text2[idx]\n",
    "        return text1, text2\n",
    "    \n",
    "dataset = SiameseDataset(test[\"prompt\"].tolist(),test[\"answer_text\"].tolist())\n",
    "data_loader = DataLoader(dataset, batch_size=16, shuffle=False)"
   ]
  },
  {
   "cell_type": "code",
   "execution_count": 39,
   "metadata": {},
   "outputs": [],
   "source": [
    "siamese_model.eval()\n",
    "predictions = []\n",
    "\n",
    "with torch.no_grad():\n",
    "    for text1, text2 in data_loader:\n",
    "        \n",
    "        inputs1 = tokenizer(text1, padding=\"max_length\", truncation=True, max_length=128, return_tensors=\"pt\")\n",
    "        inputs2 = tokenizer(text2, padding=\"max_length\", truncation=True, max_length=128, return_tensors=\"pt\")\n",
    "\n",
    "        inputs1 = inputs1.to(device)\n",
    "        inputs2 = inputs2.to(device)\n",
    "\n",
    "        outputs1, outputs2 = siamese_model(inputs1, inputs2)\n",
    "        distances = torch.nn.functional.pairwise_distance(outputs1, outputs2)\n",
    "        predictions.extend(distances.cpu().numpy())"
   ]
  },
  {
   "cell_type": "code",
   "execution_count": 40,
   "metadata": {},
   "outputs": [],
   "source": [
    "test['predictions'] = predictions\n",
    "test['Rank'] = test.groupby(\"prompt\")[\"predictions\"].rank(method=\"first\", ascending=True)\n",
    "test = test[test['Rank']<=3]\n",
    "\n",
    "submission  = test.groupby('id')['prediction'].apply(list).reset_index()\n",
    "submission['prediction'] = submission['prediction'].apply(lambda x: \" \".join(x))\n",
    "\n",
    "submission.to_csv('submission.csv', index=False)"
   ]
  }
 ],
 "metadata": {
  "kernelspec": {
   "display_name": "th",
   "language": "python",
   "name": "python3"
  },
  "language_info": {
   "codemirror_mode": {
    "name": "ipython",
    "version": 3
   },
   "file_extension": ".py",
   "mimetype": "text/x-python",
   "name": "python",
   "nbconvert_exporter": "python",
   "pygments_lexer": "ipython3",
   "version": "3.8.19"
  }
 },
 "nbformat": 4,
 "nbformat_minor": 2
}
